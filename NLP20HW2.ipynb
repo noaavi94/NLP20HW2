{
 "cells": [
  {
   "cell_type": "markdown",
   "metadata": {},
   "source": [
    "# NLP 2020 - HW1"
   ]
  },
  {
   "cell_type": "markdown",
   "metadata": {},
   "source": [
    "## Q1. Word Classification"
   ]
  },
  {
   "cell_type": "markdown",
   "metadata": {},
   "source": [
    "### Q1.1. Implement the Evaluation Metrics"
   ]
  },
  {
   "cell_type": "markdown",
   "metadata": {},
   "source": [
    "Precision attempts to answer the following question:\n",
    "\n",
    "What proportion of positive identifications was actually correct?\n",
    "\n",
    "Therefore we will calculate the percentage of true positive out of all the positive identifications.\n",
    "\n",
    "Recall attempts to answer-\n",
    "What proportion of actual positives was identified correctly? \n",
    "\n",
    "So we would like to look at the percentage of true positive out of all the actual positives.\n",
    "\n",
    "f-score combine the two using the formula: 2PR/(P + R)"
   ]
  },
  {
   "cell_type": "code",
   "execution_count": 1,
   "metadata": {},
   "outputs": [],
   "source": [
    "## Calculates the precision of the predicted labels\n",
    "def get_precision(y_pred, y_true):\n",
    "    tp = 0\n",
    "    fp = 0\n",
    "    for i in range(len(y_pred)):\n",
    "        p_val = y_pred[i]\n",
    "        t_val = y_true[i]\n",
    "        if p_val and t_val:\n",
    "            tp += 1\n",
    "        elif p_val and not t_val:\n",
    "            fp += 1\n",
    "    precision = tp / (tp + fp)\n",
    "    return precision\n",
    "    \n",
    "## Calculates the recall of the predicted labels\n",
    "def get_recall(y_pred, y_true):\n",
    "    tp = 0\n",
    "    fn = 0\n",
    "    for i in range(len(y_pred)):\n",
    "        p_val = y_pred[i]\n",
    "        t_val = y_true[i]\n",
    "        if p_val and t_val:\n",
    "            tp += 1\n",
    "        elif not p_val and t_val:\n",
    "            fn += 1\n",
    "\n",
    "    recall = tp / (tp + fn)\n",
    "    return recall\n",
    "\n",
    "## Calculates the f-score of the predicted labels\n",
    "def get_fscore(y_pred, y_true):\n",
    "    P = get_precision(y_pred,y_true)\n",
    "    R = get_recall(y_pred, y_true)\n",
    "    fscore = 2*P*R / (P + R)\n",
    "    return fscore\n",
    "\n",
    "def test_predictions(y_pred, y_true):\n",
    "    print(\"Precision:\")\n",
    "    print(get_precision(y_pred, y_true))\n",
    "    print(\"Recall:\")\n",
    "    print(get_recall(y_pred, y_true))\n",
    "    print(\"fscore:\")\n",
    "    print(get_fscore(y_pred, y_true))\n",
    "    print(\"\\n\")"
   ]
  },
  {
   "cell_type": "markdown",
   "metadata": {},
   "source": [
    "### Q1.2. Baselines"
   ]
  },
  {
   "cell_type": "markdown",
   "metadata": {},
   "source": [
    "### 1.2.1 Majority Class Baseline"
   ]
  },
  {
   "cell_type": "markdown",
   "metadata": {},
   "source": [
    "all_complex is a simple baseline that labels all the word as as complex:"
   ]
  },
  {
   "cell_type": "code",
   "execution_count": 2,
   "metadata": {},
   "outputs": [],
   "source": [
    "def all_complex(data_file):\n",
    "    y_true = data_file[1]\n",
    "    y_pred = []\n",
    "    for i in range(len(y_true)):\n",
    "        y_pred.append(1)\n",
    "\n",
    "    precision = get_precision(y_pred,y_true)\n",
    "    recall = get_recall(y_pred,y_true)\n",
    "    fscore = get_fscore(y_pred,y_true)\n",
    "    performance = [precision, recall, fscore]\n",
    "    return performance"
   ]
  },
  {
   "cell_type": "markdown",
   "metadata": {},
   "source": [
    "we'll compute the precision, recall, and f-score for the training data:"
   ]
  },
  {
   "cell_type": "code",
   "execution_count": 3,
   "metadata": {},
   "outputs": [
    {
     "name": "stdout",
     "output_type": "stream",
     "text": [
      "[0.43275, 1.0, 0.604083057058105]\n",
      "[0.418, 1.0, 0.5895627644569816]\n"
     ]
    }
   ],
   "source": [
    "## Loads in the words and labels of one of the datasets\n",
    "def load_file(data_file):\n",
    "    words = []\n",
    "    labels = []   \n",
    "    with open(data_file, 'rt', encoding=\"utf8\") as f:\n",
    "        i = 0\n",
    "        for line in f:\n",
    "            if i > 0:\n",
    "                line_split = line[:-1].split(\"\\t\")\n",
    "                words.append(line_split[0].lower())\n",
    "                labels.append(int(line_split[1]))\n",
    "            i += 1\n",
    "    return words, labels\n",
    "\n",
    "if __name__ == \"__main__\":\n",
    "    training_file = \"../data/complex_words_training.txt\"\n",
    "    development_file = \"../data/complex_words_development.txt\"\n",
    "    test_file = \"../data/complex_words_test_unlabeled.txt\"\n",
    "    \n",
    "    train_data = load_file(training_file)\n",
    "    print(all_complex(train_data))\n",
    "\n",
    "    dev_data = load_file(development_file)\n",
    "    print(all_complex(dev_data))"
   ]
  },
  {
   "cell_type": "markdown",
   "metadata": {},
   "source": [
    "We can see that in both data files recall is always a perfect 1.0.\n",
    "The reason for it is that if you always label all the words as complex you will never label a complex word wrongly and you will never create a false negative.\n",
    "\n",
    "Precision is low because there are a lot of words that aren't complex that were labeled as such.\n"
   ]
  },
  {
   "cell_type": "markdown",
   "metadata": {},
   "source": [
    "### 1.2.2 Word Length Baseline"
   ]
  },
  {
   "cell_type": "markdown",
   "metadata": {},
   "source": [
    "we'll try to find the best  threshold by maximizing f-score:"
   ]
  },
  {
   "cell_type": "code",
   "execution_count": 4,
   "metadata": {},
   "outputs": [
    {
     "data": {
      "image/png": "[encoded data removed]",
      "text/plain": [
       "<Figure size 432x288 with 1 Axes>"
      ]
     },
     "metadata": {
      "needs_background": "light"
     },
     "output_type": "display_data"
    }
   ],
   "source": [
    "import matplotlib.pyplot as plt\n",
    "\n",
    "train_data = load_file(training_file)\n",
    "train_words = train_data[0]\n",
    "ty_true = train_data[1]\n",
    "\n",
    "x = []\n",
    "f = []\n",
    "for i in range(3,11):\n",
    "    ty_pred = [1 if len(word) > i else 0 for word in train_words]\n",
    "    x.append(i)\n",
    "    f.append(get_fscore(ty_pred,ty_true))\n",
    "\n",
    "    \n",
    "plt.xlabel('Threshold')\n",
    "plt.ylabel('fscore')\n",
    "plt.plot(x, f, 'g')\n",
    "plt.plot(x, f, 'p')\n",
    "plt.show()"
   ]
  },
  {
   "cell_type": "markdown",
   "metadata": {},
   "source": [
    "The best threshold is 6 (f-score at its max value).\n",
    "\n",
    "Let's plot the Precision (on the y-axis) and Recall (on the X-axis) for different values of word-length threshold: "
   ]
  },
  {
   "cell_type": "code",
   "execution_count": 5,
   "metadata": {},
   "outputs": [
    {
     "data": {
      "image/png": "[encoded data removed]",
      "text/plain": [
       "<Figure size 432x288 with 1 Axes>"
      ]
     },
     "metadata": {
      "needs_background": "light"
     },
     "output_type": "display_data"
    }
   ],
   "source": [
    "p = []\n",
    "r = []\n",
    "for i in range(3,11):\n",
    "    ty_pred = [1 if len(word) > i else 0 for word in train_words]\n",
    "    p.append(get_precision(ty_pred,ty_true))\n",
    "    r.append(get_recall(ty_pred, ty_true))\n",
    "    \n",
    "plt.xlabel('Recall')\n",
    "plt.ylabel('Precision')\n",
    "plt.plot(r, p, 'p')\n",
    "plt.plot(r, p, 'g')\n",
    "plt.show()"
   ]
  },
  {
   "cell_type": "markdown",
   "metadata": {},
   "source": [
    "we can see how Precision and Recall are inversely related. "
   ]
  },
  {
   "cell_type": "markdown",
   "metadata": {},
   "source": [
    "now we can campute the precision, recall, and f-score for the training and development data:"
   ]
  },
  {
   "cell_type": "code",
   "execution_count": 6,
   "metadata": {},
   "outputs": [
    {
     "name": "stdout",
     "output_type": "stream",
     "text": [
      "The performance for training data: \n",
      "Precision:\n",
      "0.6007401315789473\n",
      "Recall:\n",
      "0.8440207972270364\n",
      "fscore:\n",
      "0.7018976699495555\n",
      "\n",
      "\n",
      "\n",
      "The performance for development data: \n",
      "Precision:\n",
      "0.6053511705685619\n",
      "Recall:\n",
      "0.8660287081339713\n",
      "fscore:\n",
      "0.7125984251968505\n",
      "\n",
      "\n"
     ]
    }
   ],
   "source": [
    "def word_length_threshold(training_file, development_file):\n",
    "    train_data = load_file(training_file)\n",
    "    train_words = train_data[0]\n",
    "    ty_true = train_data[1]\n",
    "\n",
    "    dev_data = load_file(development_file)\n",
    "    dev_words = dev_data[0]\n",
    "    dy_true = dev_data[1]\n",
    "\n",
    "    # we found that 6 is the best threshold\n",
    "    threshold = 6\n",
    "    print(\"The performance for training data: \")\n",
    "    ty_pred = [1 if len(word) > threshold else 0 for word in train_words]\n",
    "    test_predictions(ty_pred,ty_true)\n",
    "\n",
    "\n",
    "    print(\"\\nThe performance for development data: \")\n",
    "    dy_pred = [1 if len(word) > threshold else 0 for word in dev_words]\n",
    "    test_predictions(dy_pred,dy_true)\n",
    "    \n",
    "dev_data = load_file(development_file)\n",
    "word_length_threshold(training_file, development_file)\n"
   ]
  },
  {
   "cell_type": "markdown",
   "metadata": {},
   "source": [
    "### 1.2.3 Word Frequency Baseline"
   ]
  },
  {
   "cell_type": "code",
   "execution_count": 7,
   "metadata": {},
   "outputs": [],
   "source": [
    "from collections import defaultdict\n",
    "import gzip\n",
    "import matplotlib.pyplot as plt\n",
    "\n",
    "## Loads Google NGram counts\n",
    "def load_ngram_counts(ngram_counts_file):\n",
    "    \n",
    "    counts = defaultdict(int) \n",
    "    with gzip.open(ngram_counts_file, 'rt', errors='ignore') as f: \n",
    "        for line in f:\n",
    "            token, count = line.strip().split('\\t') \n",
    "            if token[0].islower(): \n",
    "                counts[token] = int(count) \n",
    "    return counts"
   ]
  },
  {
   "cell_type": "markdown",
   "metadata": {},
   "source": [
    "First, we'll define find_opt_threshold that finds the best threshold by maximizing f-score. \n",
    "\n",
    "we'll try different frequencies between 1000 and 50000000.\n",
    "\n",
    "find_opt_threshold also plot the Precision-Recall curve for the range of thresholds."
   ]
  },
  {
   "cell_type": "code",
   "execution_count": 8,
   "metadata": {},
   "outputs": [],
   "source": [
    "def find_opt_threshold(y_true, word_lst, counts):\n",
    "    max_fscore = 0\n",
    "\n",
    "    x = []\n",
    "    f = []\n",
    "    p = []\n",
    "    r = []\n",
    "    for i in range(1000, 50000000, 10000):\n",
    "        ty_pred = [1 if counts[word] < i else 0 for word in word_lst]\n",
    "        curr_fscore = get_fscore(ty_pred, y_true)\n",
    "\n",
    "        if curr_fscore > max_fscore:\n",
    "            max_fscore = curr_fscore\n",
    "            opt_threshold = i\n",
    "        x.append(i)\n",
    "        f.append(curr_fscore)\n",
    "\n",
    "        p.append(get_precision(ty_pred, y_true))\n",
    "        r.append(get_recall(ty_pred, y_true))\n",
    "\n",
    "    print(\"The best fscore is: \", max_fscore, \"by using the threshold: \", opt_threshold)\n",
    "\n",
    "    plt.xlabel('Threshold')\n",
    "    plt.ylabel('fscore')\n",
    "    plt.plot(x, f, 'b')\n",
    "    plt.show()\n",
    "\n",
    "    plt.xlabel('Recall')\n",
    "    plt.ylabel('Precision')\n",
    "    plt.plot(r, p, 'g')\n",
    "    plt.show()\n",
    "\n",
    "    return opt_threshold\n"
   ]
  },
  {
   "cell_type": "markdown",
   "metadata": {},
   "source": [
    "Now we can find the best thershold using the function and report the precision, recall, and f-score on the training and development data.\n"
   ]
  },
  {
   "cell_type": "code",
   "execution_count": 9,
   "metadata": {},
   "outputs": [
    {
     "name": "stdout",
     "output_type": "stream",
     "text": [
      "The best fscore is:  0.6680861130825645 by using the threshold:  19841000\n"
     ]
    },
    {
     "data": {
      "image/png": "[encoded data removed]",
      "text/plain": [
       "<Figure size 432x288 with 1 Axes>"
      ]
     },
     "metadata": {
      "needs_background": "light"
     },
     "output_type": "display_data"
    },
    {
     "data": {
      "image/png": "[encoded data removed]",
      "text/plain": [
       "<Figure size 432x288 with 1 Axes>"
      ]
     },
     "metadata": {
      "needs_background": "light"
     },
     "output_type": "display_data"
    },
    {
     "name": "stdout",
     "output_type": "stream",
     "text": [
      "The performance for training data:\n",
      "Precision:\n",
      "0.5657051282051282\n",
      "Recall:\n",
      "0.8157134604274986\n",
      "fscore:\n",
      "0.6680861130825645\n",
      "\n",
      "\n",
      "The performance for development data: \n",
      "Precision:\n",
      "0.556782334384858\n",
      "Recall:\n",
      "0.8444976076555024\n",
      "fscore:\n",
      "0.6711026615969581\n",
      "\n",
      "\n"
     ]
    }
   ],
   "source": [
    "# Finds the best frequency threshold by f-score, and uses this threshold to\n",
    "## classify the training and development set\n",
    "def word_frequency_threshold(training_file, development_file, counts):\n",
    "    train_data = load_file(training_file)\n",
    "    train_words = train_data[0]\n",
    "    ty_true = train_data[1]\n",
    "\n",
    "    dev_data = load_file(development_file)\n",
    "    dev_words = dev_data[0]\n",
    "    dy_true = dev_data[1]\n",
    "\n",
    "    # finding the best threshold\n",
    "    opt_thershold = find_opt_threshold(ty_true, train_words, counts)\n",
    "    \n",
    "    #using the best threshold:  \n",
    "    print(\"The performance for training data:\")\n",
    "    ty_pred = [1 if counts[word] < opt_thershold else 0 for word in train_words]\n",
    "    test_predictions(ty_pred,ty_true)\n",
    "\n",
    "\n",
    "    print(\"The performance for development data: \")\n",
    "    dy_pred = [1 if counts[word] < opt_thershold else 0 for word in dev_words]\n",
    "    test_predictions(dy_pred,dy_true)\n",
    "    \n",
    "\n",
    "counts = load_ngram_counts(\"ngram_counts.txt.gz\")\n",
    "word_frequency_threshold(training_file, development_file, counts)"
   ]
  },
  {
   "cell_type": "markdown",
   "metadata": {},
   "source": [
    "### Q1.3. Classifiers"
   ]
  },
  {
   "cell_type": "markdown",
   "metadata": {},
   "source": [
    "### 1.3.1 Naive Bayes classification"
   ]
  },
  {
   "cell_type": "markdown",
   "metadata": {},
   "source": [
    "First, we'll add some functions that will help us normalize the features. get_mean and get_SD returns arrays with the mean and the standard deviation for every feature."
   ]
  },
  {
   "cell_type": "code",
   "execution_count": 10,
   "metadata": {},
   "outputs": [],
   "source": [
    "import statistics\n",
    "\n",
    "def get_mean(words, counts):\n",
    "    lens = [len(word) for word in words]\n",
    "    freq = [counts[word] for word in words]\n",
    "    return [statistics.mean(lens), statistics.mean(freq)]\n",
    "\n",
    "def get_SD(words, counts):\n",
    "    lens = [len(word) for word in words]\n",
    "    freq = [counts[word] for word in words]\n",
    "    return [statistics.stdev(lens),statistics.stdev(freq)]"
   ]
  },
  {
   "cell_type": "markdown",
   "metadata": {},
   "source": [
    "normalize_features computes: X_scaled = (X_original - mean)/sd"
   ]
  },
  {
   "cell_type": "code",
   "execution_count": 11,
   "metadata": {},
   "outputs": [],
   "source": [
    "def normalize_features(arr, mean, SD,n):\n",
    "    scaled_arr = []\n",
    "    for i in range(n):\n",
    "        scaled_arr.append((arr[i] - mean[i])/SD[i])\n",
    "    return scaled_arr"
   ]
  },
  {
   "cell_type": "markdown",
   "metadata": {},
   "source": [
    "Next we'll define get_features that returns an m by n array, where m is the number of words in the dataset, and n is the number of features for each word."
   ]
  },
  {
   "cell_type": "code",
   "execution_count": 12,
   "metadata": {},
   "outputs": [],
   "source": [
    "def get_features(words, counts, mean, SD):\n",
    "    m = len(words)\n",
    "    n = 2\n",
    "    features = np.zeros(shape=(m, n))\n",
    "    \n",
    "    i = 0\n",
    "    for word in words:\n",
    "        features[i] = normalize_features([len(word), counts[word]], mean, SD,n)\n",
    "        i += 1\n",
    "    return features"
   ]
  },
  {
   "cell_type": "markdown",
   "metadata": {},
   "source": [
    "Now we can create our Naive Bayes classifier which uses word length and word frequency as features, \n",
    "and report the precision, recall, and f-score on the training and development data."
   ]
  },
  {
   "cell_type": "code",
   "execution_count": 13,
   "metadata": {},
   "outputs": [
    {
     "name": "stdout",
     "output_type": "stream",
     "text": [
      "The performance for training data:\n",
      "Precision:\n",
      "0.4950379451255108\n",
      "Recall:\n",
      "0.9797804737146159\n",
      "fscore:\n",
      "0.6577467519875897\n",
      "\n",
      "\n",
      "The performance for development data: \n",
      "Precision:\n",
      "0.46929316338354576\n",
      "Recall:\n",
      "0.9688995215311005\n",
      "fscore:\n",
      "0.6323185011709602\n",
      "\n",
      "\n"
     ]
    }
   ],
   "source": [
    "import numpy as np\n",
    "from sklearn.naive_bayes import GaussianNB\n",
    "\n",
    "## Trains a Naive Bayes classifier using length and frequency features\n",
    "def naive_bayes(training_file, development_file, counts):\n",
    "    train_data = load_file(training_file)\n",
    "    train_words = train_data[0]\n",
    "    ty_true = train_data[1]\n",
    "\n",
    "    dev_data = load_file(development_file)\n",
    "    dev_words = dev_data[0]\n",
    "    dy_true = dev_data[1]\n",
    "\n",
    "    #get the means and standard deviations for the training data\n",
    "    mean = get_mean(train_words, counts)\n",
    "    SD = get_SD(train_words, counts)\n",
    "\n",
    "    X_train = get_features(train_words,counts, mean, SD)\n",
    "\n",
    "    clf = GaussianNB()\n",
    "    clf.fit(X_train, ty_true)\n",
    "\n",
    "    # using our classifier to predict labels and print its performance\n",
    "    print(\"The performance for training data:\")\n",
    "    Y_pred = clf.predict(X_train)\n",
    "    test_predictions(Y_pred, ty_true)\n",
    "\n",
    "    print(\"The performance for development data: \")\n",
    "    X_dev = get_features(dev_words, counts, mean, SD)\n",
    "    Y_pred = clf.predict(X_dev)\n",
    "    test_predictions(Y_pred, dy_true)\n",
    "    \n",
    "naive_bayes(training_file, development_file, counts)"
   ]
  },
  {
   "cell_type": "markdown",
   "metadata": {},
   "source": [
    "### Q1.4. Ambiguity"
   ]
  },
  {
   "cell_type": "markdown",
   "metadata": {},
   "source": [
    "An evidence that the word classification task is ambiguous will be an example of a word that was labeled as simple in one context and as complex in another.\n",
    "First, we'll tweak load_data a bit so it will return the contexts as well as the words and labels."
   ]
  },
  {
   "cell_type": "code",
   "execution_count": 14,
   "metadata": {},
   "outputs": [],
   "source": [
    "def load_file_with_context(data_file):\n",
    "    words = []\n",
    "    labels = []\n",
    "    contexts = []\n",
    "    with open(data_file, 'rt', encoding=\"utf8\") as f:\n",
    "        i = 0\n",
    "        for line in f:\n",
    "            if i > 0:\n",
    "                line_split = line[:-1].split(\"\\t\")\n",
    "                words.append(line_split[0].lower())\n",
    "                labels.append(int(line_split[1]))\n",
    "                contexts.append(line_split[3])\n",
    "\n",
    "            i += 1\n",
    "    return words, labels, contexts"
   ]
  },
  {
   "cell_type": "markdown",
   "metadata": {},
   "source": [
    "Now we can go over the words that appears more than once (using Counter) and try to look for a word that was labeled differently:"
   ]
  },
  {
   "cell_type": "code",
   "execution_count": 15,
   "metadata": {},
   "outputs": [
    {
     "name": "stdout",
     "output_type": "stream",
     "text": [
      "The word campaign is labeled  0 \n",
      "\n",
      "in the context: \n",
      " `` Given the way the meeting transpired , '' Ray Halbritter , an Oneida representative and leader of the `` Change the Mascot Campaign , '' said Wednesday , `` it became somewhat evident they were defending the continued use of the name . \n",
      "\n",
      "but was labeled  1 in the context: \n",
      " The campaign around the Maine Bear Hunting Ban Initiative , which will appear on the ballot as Question 1 , has shed light on Maine 's unique status in the wildlife world . \n",
      "\n",
      "\n",
      "The word element is labeled  0 \n",
      "\n",
      "in the context: \n",
      " Element 118 , for example , is the heaviest element to date , with 118 protons alongside 176 neutrons . \n",
      "\n",
      "but was labeled  1 in the context: \n",
      " Arturo Sanchez is in his element . \n",
      "\n",
      "\n"
     ]
    }
   ],
   "source": [
    "(words, labels, contexts) =load_file_with_context(training_file)\n",
    "    \n",
    "from collections import Counter\n",
    "counts = Counter(words)\n",
    "\n",
    "num_of_exmp = 2\n",
    "\n",
    "i = 0\n",
    "found = False\n",
    "for word in words:\n",
    "    if counts[word] > 1:\n",
    "        indices = [i for i, x in enumerate(words) if x == word]  # get all the words occurrences\n",
    "        for j in indices:\n",
    "            if not labels[i] == labels[j]:\n",
    "                print(\"The word\",word,\"is labeled \", labels[i],\"\\n\\nin the context: \\n\",\n",
    "                    contexts[i], \"\\n\\nbut was labeled \",\n",
    "                    labels[j],\"in the context: \\n\", contexts[j],\"\\n\\n\")\n",
    "                num_of_exmp -= 1\n",
    "        if num_of_exmp == 0:\n",
    "            break\n",
    "    i += 1"
   ]
  },
  {
   "cell_type": "markdown",
   "metadata": {},
   "source": [
    "## Q2. Document Classification"
   ]
  },
  {
   "cell_type": "markdown",
   "metadata": {},
   "source": [
    "### Q2.1. Reuters Dataset"
   ]
  },
  {
   "cell_type": "markdown",
   "metadata": {},
   "source": [
    "### Q2.1.1."
   ]
  },
  {
   "cell_type": "markdown",
   "metadata": {},
   "source": [
    "\n",
    "To compute the values we used the following variables in a loop:\n",
    "\n",
    "categories_dict = {}\n",
    "\n",
    "for c in categories:\n",
    "        categories_dict[c] = 0\n",
    "\n",
    "counter_characters = [0]\n",
    "counter_words = [0]\n",
    "\n",
    "the loop:\n",
    "for doc in itertools.islice(doc_iter, size):\n",
    "        counter_words[0] = counter_words[0] + len(doc['title'].split()) + len(doc['body'].split()) + len(doc['topics'])\n",
    "        counter_characters[0] = counter_characters[0] + len(doc['title']) + len(doc['body']) + len(\"\".join(doc['topics']))\n",
    "        for t in doc['topics']:\n",
    "            categories_dict[t] = categories_dict[t] + 1\n",
    "\n",
    "and the methods:\n",
    "df = pd.Series(categories_dict)\n",
    "df.describe()\n",
    "\n",
    "There are 11000 documents in the dataset.\n",
    "There are 401 categories in the dataset.\n",
    "The mean of documents per category is 50.473815\n",
    "The standard deviation is 345.085902\n",
    "The minimum of documents per category is 0\n",
    "The maximum of documents per category is 6369\n",
    "\n"
   ]
  },
  {
   "cell_type": "markdown",
   "metadata": {},
   "source": [
    "### Q2.1.2"
   ]
  },
  {
   "cell_type": "markdown",
   "metadata": {},
   "source": [
    "There are 8368479 characters and and 1388272 words in the dataset.\n",
    "\n",
    "\n"
   ]
  },
  {
   "cell_type": "markdown",
   "metadata": {},
   "source": [
    "### Q2.1.3."
   ]
  },
  {
   "cell_type": "markdown",
   "metadata": {},
   "source": [
    "The classifiers that support the \"partial-fit\" method discussed in the code are:\n",
    "SGDClassifier: It is a linear classifier with stochastic gradient descent training, which means that the gradient of the loss\n",
    "is estimated for each sample apart, and we update the model with a learning rate.\n",
    "Perceptron: This algorithm matches a large scale learning. It doesn't require a learning rate, it is not penalized, and the model is updated only on mistakes.\n",
    "MultinomialNB: Which is the Naive Bayese classifier and is suitable or classification with different features like word counts in text classification.\n",
    "PassiveAggressive: A family of algorithms also for large scale learning, but unlike the perceptron, they do include a regularization parameter.\n",
    "\n",
    " "
   ]
  },
  {
   "cell_type": "markdown",
   "metadata": {},
   "source": [
    "### Q2.1.4."
   ]
  },
  {
   "cell_type": "markdown",
   "metadata": {},
   "source": [
    "It is important to use this vectorizer to achieve \"streaming classification\" because during the fit there is no state that is computed,\n",
    "Also it enables using of low memory because we don't store a vocabulary dictionary in memory.\n",
    "We would like for the features space to not change over time, so we use the HashingVectorizer that projects each example into the same feature space."
   ]
  },
  {
   "cell_type": "markdown",
   "metadata": {},
   "source": [
    "### Q3. Named Entity Recognition"
   ]
  },
  {
   "cell_type": "markdown",
   "metadata": {},
   "source": [
    "### Q3.1 Features"
   ]
  },
  {
   "cell_type": "code",
   "execution_count": 16,
   "metadata": {},
   "outputs": [],
   "source": [
    "import nltk\n",
    "\n",
    "# In Spanish\n",
    "etr = list(nltk.corpus.conll2002.iob_sents('esp.train'))\n",
    "eta = list(nltk.corpus.conll2002.iob_sents('esp.testa'))\n",
    "etb = list(nltk.corpus.conll2002.iob_sents('esp.testb'))\n",
    "\n",
    "# In Dutch\n",
    "dtr = list(nltk.corpus.conll2002.iob_sents('ned.train'))\n",
    "dta = list(nltk.corpus.conll2002.iob_sents('ned.testa'))\n",
    "dtb = list(nltk.corpus.conll2002.iob_sents('ned.testb'))"
   ]
  },
  {
   "cell_type": "markdown",
   "metadata": {},
   "source": [
    "First, we create word2features and sent2features that will be used for feature extraction.\n",
    "\n",
    "The features we chose are:\n",
    "\n",
    "    -The word form (the string as it appears in the sentence)\n",
    "\n",
    "    -The POS of the word \n",
    "\n",
    "    -prefix1: first letter of the word\n",
    "\n",
    "    -prefix2: first two letters of the word\n",
    "\n",
    "    -prefix3: first three letters of the word\n",
    "\n",
    "    -suffix1: last letter of the word\n",
    "\n",
    "    -suffix2: last two letters of the word\n",
    "\n",
    "    -suffix3: last three letters of the word \n",
    "\n",
    "    -the tag of the previous word\n",
    "\n",
    "    -the previous word and the following word\n",
    "\n",
    "we'll also create some helper functions label_to_index and index_to_label to convert labels to indexs."
   ]
  },
  {
   "cell_type": "code",
   "execution_count": 17,
   "metadata": {},
   "outputs": [],
   "source": [
    "# creates the features as a dictionary \n",
    "def word2features(sentence, i, history):\n",
    "    word = sentence[i][0]\n",
    "    features = { \n",
    "                 \"word\": word,\n",
    "                 \"POS\": sentence[i][1],\n",
    "                 \"prefix(1)\": word[:1],\n",
    "                 \"prefix(2)\": word[:2],\n",
    "                 \"prefix(3)\": word[:3],\n",
    "                 \"suffix(1)\": word[-1:],\n",
    "                 \"suffix(2)\": word[-2:],\n",
    "                 \"suffix(3)\": word[-3:],\n",
    "                 }\n",
    "    if i == 0:\n",
    "        features[\"prev-tag\"] = \"<START>\" \n",
    "        features[\"prev-word\"] = \"<START>\"\n",
    "        if len(sentence) > 1:\n",
    "            features[\"next-word\"] = sentence[i+1][0]\n",
    "    elif i == len(sentence) - 1:\n",
    "        features[\"prev-tag\"] = history[i-1]\n",
    "        features[\"prev-word\"] = history[i - 1][0]\n",
    "        features[\"next-word\"] = \"<END>\"\n",
    "    else:\n",
    "        features[\"prev-tag\"] = history[i-1]\n",
    "        features[\"prev-word\"] = history[i - 1][0]\n",
    "        features[\"next-word\"] = sentence[i + 1][0]\n",
    "    return features\n",
    "\n",
    "\n",
    "def sent2features(sentences):\n",
    "    featureset = []\n",
    "    all_labels = []\n",
    "    \n",
    "    for sent in sentences:\n",
    "        history = []\n",
    "        sent_labels = []\n",
    "        for i, wordtuple in enumerate(sent):\n",
    "            # add the dictionary features of the word to the featureset\n",
    "            featureset.append(word2features(sent, i, history))\n",
    "            #add the label to the label set\n",
    "            sent_labels.append(wordtuple[2])\n",
    "            #add the prev label to history\n",
    "            history.append(wordtuple[2])\n",
    "            \n",
    "        all_labels.append(sent_labels)\n",
    "\n",
    "        tags = []\n",
    "        for sent in all_labels:\n",
    "            tags = tags + [label_to_index(l) for l in sent]\n",
    "\n",
    "    return featureset, tags\n",
    "\n",
    "def label_to_index(label):\n",
    "    d = {'I-LOC':  0,\n",
    "         'B-ORG':  1,\n",
    "         'B-PER' : 2,\n",
    "         'I-MISC': 3,\n",
    "         'B-LOC':  4,\n",
    "         'B-MISC': 5,\n",
    "         'I-ORG':  6,\n",
    "         'O':      7,\n",
    "         'I-PER':  8\n",
    "         }\n",
    "    return d[label]\n",
    "\n",
    "def index_to_label(index):\n",
    "    index = str(index)\n",
    "    d = { '0': 'I-LOC',\n",
    "          '1': 'B-ORG' ,\n",
    "          '2': 'B-PER',\n",
    "          '3': 'I-MISC',\n",
    "          '4': 'B-LOC',\n",
    "          '5': 'B-MISC',\n",
    "          '6': 'I-ORG',\n",
    "          '7': 'O',\n",
    "          '8': 'I-PER'\n",
    "    }\n",
    "    return d[index]\n"
   ]
  },
  {
   "cell_type": "markdown",
   "metadata": {},
   "source": [
    "Next, we'll train the model.\n",
    "DictVectorizer turns the dictionaries of feature names to feature values into Numpy arrays."
   ]
  },
  {
   "cell_type": "code",
   "execution_count": 32,
   "metadata": {},
   "outputs": [],
   "source": [
    "from sklearn.linear_model import LogisticRegression\n",
    "from sklearn.feature_extraction import DictVectorizer\n",
    "from sklearn import linear_model\n",
    "\n",
    "# ignore all future warnings- caused by differences in scikit-learn versions\n",
    "import warnings \n",
    "warnings.filterwarnings(\"ignore\")\n",
    "\n",
    "all_classes = [i for i in range(9)]\n",
    "\n",
    "v = DictVectorizer(sparse=True)\n",
    "featureset, y_true = sent2features(etr[:500])\n",
    "X = v.fit_transform(featureset)\n",
    "\n",
    "# The ‘log’ loss gives logistic regression\n",
    "reg = linear_model.SGDClassifier(max_iter=1000, tol=1e-3, loss='log')\n",
    "reg.partial_fit( X,  y_true, classes = all_classes)\n",
    "\n",
    "#partial_fit 100 sentences at a time \n",
    "i = 100\n",
    "while i < len(etr):\n",
    "    if i + 100 < len(etr):\n",
    "        featureset, y_true = sent2features(etr[i:i+100])\n",
    "    else:\n",
    "        featureset, y_true = sent2features(etr[i:])\n",
    "    X = v.transform(featureset)\n",
    "    reg.partial_fit( X,  y_true)\n",
    "    i += 100"
   ]
  },
  {
   "cell_type": "markdown",
   "metadata": {},
   "source": [
    "Now can see how our model performs:"
   ]
  },
  {
   "cell_type": "code",
   "execution_count": 33,
   "metadata": {},
   "outputs": [
    {
     "name": "stdout",
     "output_type": "stream",
     "text": [
      "0.9582517938682322\n"
     ]
    }
   ],
   "source": [
    "import sklearn.metrics\n",
    "import numpy as np\n",
    "\n",
    "ty_true= []\n",
    "ty_pred = np.array([])\n",
    "for i in range(len(etb)):\n",
    "    featureset, yt = sent2features([eta[i]])\n",
    "    ty_true += yt\n",
    "    Xt = v.transform(featureset)\n",
    "    ty_pred = np.concatenate([ty_pred,reg.predict(Xt)])\n",
    "\n",
    "print(sklearn.metrics.accuracy_score(ty_true, ty_pred))"
   ]
  },
  {
   "cell_type": "markdown",
   "metadata": {},
   "source": [
    "Finally, we will use testb to report on accuracy, per label precision, per label recall and per label F-measure, and confusion matrix. "
   ]
  },
  {
   "cell_type": "code",
   "execution_count": 34,
   "metadata": {},
   "outputs": [
    {
     "name": "stdout",
     "output_type": "stream",
     "text": [
      "accuracy:  0.9663322531193604 \n",
      "\n",
      "              precision    recall  f1-score   support\n",
      "\n",
      "       B-LOC       0.80      0.46      0.58      1084\n",
      "       I-LOC       0.92      0.97      0.94       325\n",
      "      B-MISC       0.93      0.16      0.27       339\n",
      "      I-MISC       0.91      0.94      0.93       557\n",
      "       B-ORG       0.63      0.84      0.72      1400\n",
      "       I-ORG       0.91      0.96      0.93      1104\n",
      "       B-PER       0.80      0.63      0.70       735\n",
      "       I-PER       0.97      0.99      0.98       634\n",
      "\n",
      "   micro avg       0.80      0.77      0.78      6178\n",
      "   macro avg       0.86      0.74      0.76      6178\n",
      "weighted avg       0.82      0.77      0.76      6178\n",
      " samples avg       0.09      0.09      0.09      6178\n",
      "\n"
     ]
    }
   ],
   "source": [
    "from sklearn.preprocessing import LabelBinarizer\n",
    "from sklearn.metrics import classification_report\n",
    "\n",
    "# Classification report for a list of BIO-encoded sequences.\n",
    "def bio_classification_report(y_true, y_pred):\n",
    "    y_pred = [index_to_label(i) for i in y_pred]\n",
    "    y_true = [index_to_label(i) for i in y_true]\n",
    "    lb = LabelBinarizer()\n",
    "\n",
    "    y_true_combined = lb.fit_transform(y_true)\n",
    "    y_pred_combined = lb.transform(y_pred)\n",
    "\n",
    "    tagset = set(lb.classes_) - {'O'}\n",
    "    tagset = sorted(tagset, key=lambda tag: tag.split('-', 1)[::-1])\n",
    "    class_indices = {cls: idx for idx, cls in enumerate(lb.classes_)}\n",
    "\n",
    "    return classification_report(\n",
    "        y_true_combined,\n",
    "        y_pred_combined,\n",
    "        labels=[class_indices[cls] for cls in tagset],\n",
    "        target_names=tagset,\n",
    "    )\n",
    "\n",
    "ty_true= []\n",
    "ty_pred = np.array([])\n",
    "for i in range(len(etb)):\n",
    "    featureset, yt = sent2features([etb[i]])\n",
    "    ty_true += yt\n",
    "    Xt = v.transform(featureset)\n",
    "    ty_pred = np.concatenate([ty_pred,reg.predict(Xt)])\n",
    "    \n",
    "ty_pred = ty_pred.astype(np.int64)\n",
    "\n",
    "print(\"accuracy: \",sklearn.metrics.accuracy_score(ty_true, ty_pred), \"\\n\")\n",
    "print(bio_classification_report(ty_true, ty_pred))"
   ]
  },
  {
   "cell_type": "markdown",
   "metadata": {},
   "source": [
    "Now we can also create the confusion matrix:"
   ]
  },
  {
   "cell_type": "code",
   "execution_count": 35,
   "metadata": {},
   "outputs": [
    {
     "data": {
      "image/png": "[encoded data removed]",
      "text/plain": [
       "<Figure size 864x864 with 2 Axes>"
      ]
     },
     "metadata": {
      "needs_background": "light"
     },
     "output_type": "display_data"
    }
   ],
   "source": [
    "import matplotlib.pyplot as plt\n",
    "from sklearn.metrics import plot_confusion_matrix\n",
    "\n",
    "featureset, ty_true = sent2features(etb)\n",
    "Xt = v.transform(featureset)\n",
    "ty_pred = reg.predict(Xt)\n",
    "\n",
    "class_names = [\"B-LOC\", \"I-LOC\" , \"B-MISC\" ,\n",
    "                  \"I-MISC\" , \"B-ORG\" ,\"I-ORG\" , \"B-PER\", \"I-PER\", \"O\"]\n",
    "disp = plot_confusion_matrix(reg, Xt, ty_true,\n",
    "                                 display_labels=class_names,\n",
    "                                 cmap=plt.cm.Greens,\n",
    "                                 normalize=\"true\")\n",
    "\n",
    "plt.rcParams['figure.figsize'] = [12, 12]\n",
    "plt.show()"
   ]
  },
  {
   "cell_type": "markdown",
   "metadata": {},
   "source": [
    "Let's repeat the process for dutch:"
   ]
  },
  {
   "cell_type": "code",
   "execution_count": 29,
   "metadata": {},
   "outputs": [
    {
     "name": "stdout",
     "output_type": "stream",
     "text": [
      "0.9514686762013427\n",
      "              precision    recall  f1-score   support\n",
      "\n",
      "       B-LOC       0.44      0.53      0.48       479\n",
      "       I-LOC       0.94      0.91      0.92        64\n",
      "      B-MISC       0.69      0.44      0.54       748\n",
      "      I-MISC       0.66      0.79      0.72       215\n",
      "       B-ORG       0.85      0.17      0.29       686\n",
      "       I-ORG       0.96      0.89      0.92       396\n",
      "       B-PER       0.68      0.35      0.46       703\n",
      "       I-PER       0.98      0.98      0.98       423\n",
      "\n",
      "   micro avg       0.73      0.52      0.61      3714\n",
      "   macro avg       0.77      0.63      0.66      3714\n",
      "weighted avg       0.75      0.52      0.58      3714\n",
      " samples avg       0.05      0.05      0.05      3714\n",
      "\n"
     ]
    },
    {
     "data": {
      "image/png": "[encoded data removed]",
      "text/plain": [
       "<Figure size 864x864 with 2 Axes>"
      ]
     },
     "metadata": {
      "needs_background": "light"
     },
     "output_type": "display_data"
    }
   ],
   "source": [
    "v = DictVectorizer(sparse=True)\n",
    "featureset, y_true = sent2features(dtr[:500])\n",
    "X = v.fit_transform(featureset)\n",
    "\n",
    "# The ‘log’ loss gives logistic regression\n",
    "reg = linear_model.SGDClassifier(max_iter=1000, tol=1e-3, loss='log')\n",
    "reg.partial_fit( X,  y_true, classes = all_classes)\n",
    "\n",
    "i = 100\n",
    "while i < len(dtr):\n",
    "    if i + 100 < len(dtr):\n",
    "        featureset, y_true = sent2features(dtr[i:i+100])\n",
    "    else:\n",
    "        featureset, y_true = sent2features(dtr[i:])\n",
    "    X = v.transform(featureset)\n",
    "    reg.partial_fit( X,  y_true)\n",
    "    i += 100\n",
    "    \n",
    "\n",
    "featureset, ty_true = sent2features(dta)\n",
    "Xt = v.transform(featureset)\n",
    "ty_pred = reg.predict(Xt)\n",
    "\n",
    "print(sklearn.metrics.accuracy_score(ty_true, ty_pred))\n",
    "\n",
    "print(bio_classification_report(ty_true, ty_pred))\n",
    "\n",
    "disp = plot_confusion_matrix(reg, Xt, ty_true,\n",
    "                                 display_labels=class_names,\n",
    "                                 cmap=plt.cm.Greens,\n",
    "                                 normalize=\"true\")\n",
    "\n",
    "plt.rcParams['figure.figsize'] = [12, 12]\n",
    "plt.show()"
   ]
  },
  {
   "cell_type": "markdown",
   "metadata": {},
   "source": [
    "3.1.3. count_illegal_tags counts the occurrence of BIO tags sequences which are illegal (O-IX, IX-IY, BX-IY).\n",
    "\n",
    "we'll use it to to find the  frequency of illegal tags transitions."
   ]
  },
  {
   "cell_type": "code",
   "execution_count": 30,
   "metadata": {},
   "outputs": [
    {
     "name": "stdout",
     "output_type": "stream",
     "text": [
      "out of 37686 tags transitions 1108 were illegal:\n",
      "333 were of O_IX type\n",
      "220 were of IX-IY type\n",
      "555 were of BX_IY type\n"
     ]
    }
   ],
   "source": [
    "def count_illegal_tags(tags):\n",
    "    O_IX = 0\n",
    "    IX_IY = 0\n",
    "    BX_IY = 0\n",
    "    for i in range(len(tags)):\n",
    "        if i == 0:  # skip first\n",
    "            continue\n",
    "        if tags[i - 1][0] == \"O\" and tags[i][0] == \"I\":\n",
    "            O_IX += 1\n",
    "        elif tags[i - 1][0] == \"I\" and tags[i][0] == \"I\":\n",
    "            IX_IY += 1\n",
    "        else:  # \"BX_IY\" case\n",
    "            if tags[i][0] == \"I\" and not tags[i - 1][2:] == tags[i][:2]:\n",
    "                BX_IY += 1\n",
    "    print(\"out of\", len(tags) - 1, \"tags transitions\", O_IX + IX_IY + BX_IY, \"were illegal:\")\n",
    "    print(O_IX, \"were of O_IX type\")\n",
    "    print(IX_IY, \"were of IX-IY type\")\n",
    "    print(BX_IY, \"were of BX_IY type\")\n",
    "    \n",
    "tags = [index_to_label(x) for x in ty_pred]\n",
    "count_illegal_tags(tags)"
   ]
  },
  {
   "cell_type": "markdown",
   "metadata": {},
   "source": [
    "### Q3.2 Using Word Embeddings"
   ]
  },
  {
   "cell_type": "markdown",
   "metadata": {},
   "source": [
    "We updated word2features to include word embeddings (current word, previous word, next word) in the features of each word feature.\n",
    "\n",
    "The model we chose is in Spanish:"
   ]
  },
  {
   "cell_type": "code",
   "execution_count": 31,
   "metadata": {},
   "outputs": [
    {
     "name": "stdout",
     "output_type": "stream",
     "text": [
      "accuracy:  0.9656530766693187 \n",
      "\n",
      "              precision    recall  f1-score   support\n",
      "\n",
      "       B-LOC       0.81      0.44      0.57      1084\n",
      "       I-LOC       0.92      0.97      0.94       325\n",
      "      B-MISC       0.94      0.14      0.24       339\n",
      "      I-MISC       0.91      0.94      0.93       557\n",
      "       B-ORG       0.62      0.86      0.72      1400\n",
      "       I-ORG       0.91      0.96      0.93      1104\n",
      "       B-PER       0.82      0.60      0.69       735\n",
      "       I-PER       0.97      0.99      0.98       634\n",
      "\n",
      "   micro avg       0.80      0.76      0.78      6178\n",
      "   macro avg       0.86      0.74      0.75      6178\n",
      "weighted avg       0.82      0.76      0.76      6178\n",
      " samples avg       0.09      0.09      0.09      6178\n",
      "\n"
     ]
    }
   ],
   "source": [
    "from gensim.models import FastText\n",
    "import gensim\n",
    "embedding_dict = gensim.models.KeyedVectors.load_word2vec_format(\"cc.es.300.vec\", limit=200000, binary=False)\n",
    "embedding_dict.save_word2vec_format(\"cc.es.300.vec\"+\".bin\", binary=True)\n",
    "model = gensim.models.KeyedVectors.load_word2vec_format(\"cc.es.300.vec\"+\".bin\", binary=True)\n",
    "\n",
    "all_words = []\n",
    "\n",
    "def word2features2(sentence, i, history):\n",
    "    word = sentence[i][0]\n",
    "    all_words.append(word)\n",
    "    features = {              \n",
    "                 \"POS\": sentence[i][1],\n",
    "                 \"prefix(1)\": word[:1],\n",
    "                 \"prefix(2)\": word[:2],\n",
    "                 \"prefix(3)\": word[:3],\n",
    "                 \"suffix(1)\": word[-1:],\n",
    "                 \"suffix(2)\": word[-2:],\n",
    "                 \"suffix(3)\": word[-3:],\n",
    "                \n",
    "                 }\n",
    "    #add the Word Embeddings to the features\n",
    "    k = 0\n",
    "    if word in model.vocab.keys():\n",
    "        for a in model.get_vector(word):\n",
    "            k += 1\n",
    "            features[\"c\"+str(k)] = a\n",
    "    if i != 0:\n",
    "        if sentence[i-1][0] in model.vocab.keys():\n",
    "            for a in model.get_vector(sentence[i-1][0]):\n",
    "                k += 1\n",
    "                features[\"p\"+str(k)] = a\n",
    "    if i != len(sentence) - 1:\n",
    "        if sentence[i+1][0] in model.vocab.keys():\n",
    "            for a in model.get_vector(sentence[i+1][0]):\n",
    "                k += 1\n",
    "                features[\"n\"+str(k)] = a\n",
    "        \n",
    "    return features\n",
    "\n",
    "all_classes = [i for i in range(9)]\n",
    "\n",
    "v = DictVectorizer(sparse=True)\n",
    "featureset, y_true = sent2features(etr[:500])\n",
    "X = v.fit_transform(featureset)\n",
    "\n",
    "# The ‘log’ loss gives logistic regression\n",
    "reg = linear_model.SGDClassifier(max_iter=1000, tol=1e-3, loss='log')\n",
    "reg.partial_fit( X,  y_true, classes = all_classes)\n",
    "\n",
    "#partial_fit 100 sentences at a time \n",
    "i = 100\n",
    "while i < len(etr):\n",
    "    if i + 100 < len(etr):\n",
    "        featureset, y_true = sent2features(etr[i:i+100])\n",
    "    else:\n",
    "        featureset, y_true = sent2features(etr[i:])\n",
    "    X = v.transform(featureset)\n",
    "    reg.partial_fit( X,  y_true)\n",
    "    i += 100\n",
    "    \n",
    "ty_true= []\n",
    "ty_pred = np.array([])\n",
    "for i in range(len(etb)):\n",
    "    featureset, yt = sent2features([etb[i]])\n",
    "    ty_true += yt\n",
    "    Xt = v.transform(featureset)\n",
    "    ty_pred = np.concatenate([ty_pred,reg.predict(Xt)])\n",
    "    \n",
    "ty_pred = ty_pred.astype(np.int64)\n",
    "\n",
    "print(\"accuracy: \",sklearn.metrics.accuracy_score(ty_true, ty_pred), \"\\n\")\n",
    "print(bio_classification_report(ty_true, ty_pred))    \n"
   ]
  }
 ],
 "metadata": {
  "kernelspec": {
   "display_name": "Python 3",
   "language": "python",
   "name": "python3"
  },
  "language_info": {
   "codemirror_mode": {
    "name": "ipython",
    "version": 3
   },
   "file_extension": ".py",
   "mimetype": "text/x-python",
   "name": "python",
   "nbconvert_exporter": "python",
   "pygments_lexer": "ipython3",
   "version": "3.7.6"
  }
 },
 "nbformat": 4,
 "nbformat_minor": 2
}
